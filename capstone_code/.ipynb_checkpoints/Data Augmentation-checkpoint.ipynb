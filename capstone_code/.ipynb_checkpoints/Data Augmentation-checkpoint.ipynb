{
 "cells": [
  {
   "cell_type": "code",
   "execution_count": 1,
   "metadata": {},
   "outputs": [],
   "source": [
    "import os\n",
    "import sys\n",
    "os.chdir(\"/Users/ash/Downloads/capstone_code\")\n",
    "module_path = os.path.abspath(os.path.join('..'))\n",
    "if module_path not in sys.path:\n",
    "    sys.path.append(module_path)"
   ]
  },
  {
   "cell_type": "code",
   "execution_count": 2,
   "metadata": {},
   "outputs": [
    {
     "name": "stdout",
     "output_type": "stream",
     "text": [
      "[1, 1, 1, 1, 0, 0, 0, 1, 1, 1, 1, 1, 1]\n"
     ]
    },
    {
     "data": {
      "text/plain": [
       "<Figure size 1200x800 with 1 Axes>"
      ]
     },
     "metadata": {},
     "output_type": "display_data"
    },
    {
     "name": "stdout",
     "output_type": "stream",
     "text": [
      "ID 669\n",
      "frame 9\n",
      "[1, 1, 1, 0, 1, 0, 1, 0, 1, 1, 1, 1, 1]\n"
     ]
    },
    {
     "data": {
      "text/plain": [
       "<Figure size 1200x800 with 1 Axes>"
      ]
     },
     "metadata": {},
     "output_type": "display_data"
    },
    {
     "name": "stdout",
     "output_type": "stream",
     "text": [
      "ID 1469\n",
      "frame 2\n",
      "[1, 1, 1, 1, 1, 1, 1, 1, 1, 1, 1, 1, 1]\n"
     ]
    },
    {
     "data": {
      "text/plain": [
       "<Figure size 1200x800 with 1 Axes>"
      ]
     },
     "metadata": {},
     "output_type": "display_data"
    },
    {
     "name": "stdout",
     "output_type": "stream",
     "text": [
      "ID 1281\n",
      "frame 68\n"
     ]
    }
   ],
   "source": [
    "from visualization.plotting import plot_pose, plot_pose_visible\n",
    "import pandas as pd\n",
    "import numpy as np\n",
    "#Load data and plot some examples\n",
    "data = pd.read_csv('./data/penn/processed_penn_data.csv', index_col=[0]).reset_index(drop=True)\n",
    "\n",
    "for n in np.random.randint(0, data.shape[0], 3):\n",
    "    plot_pose_visible(data.iloc[n, 2:15], data.iloc[n, 15:28], list(data.iloc[n, 28:41]), data.iloc[n, -4], data.iloc[n, -3])\n",
    "    print(\"ID\", data.iloc[n, 0])\n",
    "    print(\"frame\", data.iloc[n, 1])"
   ]
  },
  {
   "cell_type": "code",
   "execution_count": 3,
   "metadata": {},
   "outputs": [],
   "source": [
    "ID = 1571\n",
    "\n",
    "df = data[data['file_id'] == ID].sort_values(['frame']).reset_index(drop=True)"
   ]
  },
  {
   "cell_type": "code",
   "execution_count": 4,
   "metadata": {},
   "outputs": [],
   "source": [
    "def augment_position(xs, ys, n_aug):\n",
    "    max_x = np.max(np.array(xs).reshape(-1))\n",
    "    min_x = np.min(np.array(xs).reshape(-1))\n",
    "    max_y = np.max(np.array(ys).reshape(-1))\n",
    "    min_y = np.min(np.array(ys).reshape(-1))\n",
    "    x_aug = [-i*(min_x - 0)/n_aug for i in range(0, n_aug+1)] + [i*(1-max_x)/n_aug for i in range(0, n_aug+1)]\n",
    "    y_aug = [-i*(min_y - 0)/n_aug for i in range(0, n_aug+1)] + [i*(1-max_y)/n_aug for i in range(0, n_aug+1)]\n",
    "    augmented_x = []\n",
    "    augmented_y = []\n",
    "    for move_x in x_aug: \n",
    "        for move_y in y_aug:\n",
    "            augmented_x.append(np.array(xs)+move_x*np.ones(shape=(xs.shape[0], xs.shape[1])))\n",
    "            augmented_y.append(np.array(ys)+move_y*np.ones(shape=(ys.shape[0], ys.shape[1])))\n",
    "    return np.array(augmented_x), np.array(augmented_y)\n",
    "\n",
    "def augment_size(xs, ys):\n",
    "    augmented_x, augmented_y = [], []\n",
    "    for shrink in np.linspace(0.1, 1.0, 10):\n",
    "        augmented_x.append(xs*shrink)\n",
    "        augmented_y.append(ys*shrink)\n",
    "    return np.array(augmented_x), np.array(augmented_y)"
   ]
  },
  {
   "cell_type": "code",
   "execution_count": 5,
   "metadata": {},
   "outputs": [],
   "source": [
    "def serialize_data_clf(nframe, data, n_aug, save=False, save_path=None):\n",
    "    import joblib\n",
    "    train_input = -np.ones(shape=(1, nframe, 13*3))\n",
    "    train_label = []\n",
    "    for ID in data['file_id'].unique():\n",
    "        df = data[data['file_id'] == ID].sort_values(['frame']).reset_index(drop=True)\n",
    "\n",
    "        df.iloc[:, 2:15] = df.iloc[:, 2:15]/df['w'].iloc[0]\n",
    "        df.iloc[:, 15:28] = df.iloc[:, 15:28]/df['h'].iloc[0]\n",
    "        if n_aug > 0:\n",
    "            xs, ys = augment_position(df.iloc[:, 2:15], df.iloc[:, 15:28], n_aug)\n",
    "\n",
    "            _class = df['action']\n",
    "            X_train = []\n",
    "            y_train = []\n",
    "            for n in range(xs.shape[0]):\n",
    "                for i in range(nframe, df.shape[0]):\n",
    "                    curr = np.append(xs[n,i-nframe:i,:], ys[n,i-nframe:i,:], axis=1)\n",
    "                    curr = np.append(curr, df.iloc[i-nframe:i, 28:41], axis=1)\n",
    "                    X_train.append(curr)\n",
    "                    y_train.append(_class[i])\n",
    "        else: \n",
    "            _class = df['action']\n",
    "            X_train = []\n",
    "            y_train = []\n",
    "            for i in range(nframe, df.shape[0]):\n",
    "                X_train.append(np.array(df.iloc[i-nframe:i, 2:41]))\n",
    "                y_train.append(_class[i])\n",
    "        X_train = np.array(X_train)\n",
    "\n",
    "        train_input = np.append(train_input, X_train, axis=0)\n",
    "        train_label = train_label + y_train\n",
    "    train_input = train_input[1:, :, :]\n",
    "    train_label = np.array(train_label)\n",
    "\n",
    "    from sklearn.preprocessing import OneHotEncoder\n",
    "\n",
    "    encoder = OneHotEncoder()\n",
    "    train_label = encoder.fit_transform(train_label.reshape(-1,1)).toarray()\n",
    "    \n",
    "    if save:\n",
    "        train_input.dump(save_path+\"clf_input_{}-nframe_{}-augmented\".format(nframe, n_aug))\n",
    "        train_label.dump(save_path+\"clf_label_{}-nframe_{}-augmented\".format(nframe, n_aug))\n",
    "        joblib.dump(encoder, save_path+\"clf_encoder_{}-nframe_{}-augmented\".format(nframe, n_aug))\n",
    "    \n",
    "    return train_input, train_label, encoder"
   ]
  },
  {
   "cell_type": "code",
   "execution_count": 5,
   "metadata": {},
   "outputs": [],
   "source": [
    "def serialize_data_next_frame(nframe, data, n_aug, save=False, save_path=None):\n",
    "    train_input = -np.ones(shape=(1, nframe, 13*3))\n",
    "    train_label = -np.ones(shape=(1, 13*3))\n",
    "    for ID in data['file_id'].unique():\n",
    "        df = data[data['file_id'] == ID].sort_values(['frame']).reset_index(drop=True)\n",
    "\n",
    "        df.iloc[:, 2:15] = df.iloc[:, 2:15]/df['w'].iloc[0]\n",
    "        df.iloc[:, 15:28] = df.iloc[:, 15:28]/df['h'].iloc[0]\n",
    "        if n_aug > 0:\n",
    "            xs, ys = augment_position(df.iloc[:, 2:15], df.iloc[:, 15:28], n_aug)\n",
    "\n",
    "            _class = df['action']\n",
    "            X_train = []\n",
    "            y_train = []\n",
    "            for n in range(xs.shape[0]):\n",
    "                for i in range(nframe, df.shape[0]):\n",
    "                    curr = np.append(xs[n,i-nframe:i+1,:], ys[n,i-nframe:i+1,:], axis=1)\n",
    "                    curr = np.append(curr, df.iloc[i-nframe:i+1, 28:41], axis=1)\n",
    "                    X_train.append(curr[:-1])\n",
    "                    y_train.append(curr[-1])\n",
    "        else: \n",
    "            X_train = []\n",
    "            y_train = []\n",
    "            for i in range(nframe, df.shape[0]):\n",
    "                X_train.append(np.array(df.iloc[i-nframe:i, 2:41]))\n",
    "                y_train.append(np.array(df.iloc[i, 2:41]))\n",
    "        X_train = np.array(X_train)\n",
    "        y_train = np.array(y_train)\n",
    "\n",
    "        train_input = np.append(train_input, X_train, axis=0)\n",
    "        train_label = np.append(train_label, y_train, axis=0)\n",
    "    train_input = train_input[1:, :, :]\n",
    "    train_label = train_label[1:,:]\n",
    "\n",
    "    if save:\n",
    "        train_input.dump(save_path+\"nf_input_{}-nframe_{}-augmented\".format(nframe, n_aug))\n",
    "        train_label.dump(save_path+\"nf_label_{}-nframe_{}-augmented\".format(nframe, n_aug))\n",
    "        \n",
    "    return train_input, train_label"
   ]
  },
  {
   "cell_type": "code",
   "execution_count": 6,
   "metadata": {},
   "outputs": [],
   "source": [
    "augmented = serialize_data_next_frame(5, data.iloc[:1000], 0)"
   ]
  },
  {
   "cell_type": "code",
   "execution_count": 7,
   "metadata": {},
   "outputs": [],
   "source": [
    "a, b = augmented"
   ]
  },
  {
   "cell_type": "code",
   "execution_count": 52,
   "metadata": {},
   "outputs": [],
   "source": [
    "def preprocess_input_clf(_input):\n",
    "    #pertube input\n",
    "    n_aug = 10\n",
    "    xs = _input[:,:13]\n",
    "    ys = _input[:,13:26]\n",
    "    max_x = np.max(np.array(xs).reshape(-1))\n",
    "    min_x = np.min(np.array(xs).reshape(-1))\n",
    "    max_y = np.max(np.array(ys).reshape(-1))\n",
    "    min_y = np.min(np.array(ys).reshape(-1))\n",
    "    x_aug = [-i*(min_x - 0)/n_aug for i in range(0, n_aug+1)] + [i*(1-max_x)/n_aug for i in range(0, n_aug+1)]\n",
    "    y_aug = [-i*(min_y - 0)/n_aug for i in range(0, n_aug+1)] + [i*(1-max_y)/n_aug for i in range(0, n_aug+1)]\n",
    "    move_x = np.random.choice(x_aug)\n",
    "    move_y = np.random.choice(y_aug)\n",
    "    new_xs = np.array(xs)+move_x*np.ones(shape=(xs.shape[0], xs.shape[1]))\n",
    "    new_ys = np.array(ys)+move_y*np.ones(shape=(ys.shape[0], ys.shape[1]))\n",
    "    result = np.append(new_xs, new_ys, axis=1)\n",
    "    result = np.append(result, _input[:,-13:], axis=1)\n",
    "    return result\n",
    "\n",
    "def get_input_clf(_id, train_input):\n",
    "    result = preprocess_input_clf(train_input[_id])\n",
    "    return result\n",
    "\n",
    "\n",
    "def get_output_clf(_id, train_label):\n",
    "    return train_label[_id]\n",
    "\n",
    "\n",
    "def data_generator_clf(train_input, train_label, batch_size = 64):   \n",
    "    while True:\n",
    "        batch_idx = np.random.choice(range(0, train_input.shape[0]), \n",
    "                                     size = batch_size)\n",
    "        shape = (1, train_input.shape[1], 13*3)\n",
    "        batch_input = np.zeros(shape=shape)\n",
    "        batch_output = np.zeros(shape=(1, train_label.shape[1])) \n",
    "        for idx in batch_idx:\n",
    "            _input = get_input_clf(idx, train_input).reshape(1, batch_input.shape[1], batch_input.shape[2])\n",
    "            _output = get_output_clf(idx, train_label).reshape(1, batch_output.shape[1])\n",
    "            batch_input = np.append(batch_input, _input, axis=0)\n",
    "            batch_output = np.append(batch_output, _output, axis=0)\n",
    "        batch_x = batch_input[1:]\n",
    "        batch_y = batch_output[1:]\n",
    "        \n",
    "        yield batch_x, batch_y"
   ]
  },
  {
   "cell_type": "code",
   "execution_count": 8,
   "metadata": {},
   "outputs": [],
   "source": [
    "def preprocess_input_nf(_input):\n",
    "    #pertube input\n",
    "    n_aug = 10\n",
    "    xs = _input[:,:13]\n",
    "    ys = _input[:,13:26]\n",
    "    max_x = np.max(np.array(xs).reshape(-1))\n",
    "    min_x = np.min(np.array(xs).reshape(-1))\n",
    "    max_y = np.max(np.array(ys).reshape(-1))\n",
    "    min_y = np.min(np.array(ys).reshape(-1))\n",
    "    x_aug = [-i*(min_x - 0)/n_aug for i in range(0, n_aug+1)] + [i*(1-max_x)/n_aug for i in range(0, n_aug+1)]\n",
    "    y_aug = [-i*(min_y - 0)/n_aug for i in range(0, n_aug+1)] + [i*(1-max_y)/n_aug for i in range(0, n_aug+1)]\n",
    "    move_x = np.random.choice(x_aug)\n",
    "    move_y = np.random.choice(y_aug)\n",
    "    new_xs = np.array(xs)+move_x*np.ones(shape=(xs.shape[0], xs.shape[1]))\n",
    "    new_ys = np.array(ys)+move_y*np.ones(shape=(ys.shape[0], ys.shape[1]))\n",
    "    result = np.append(new_xs, new_ys, axis=1)\n",
    "    result = np.append(result, _input[:,-13:], axis=1)\n",
    "    return result, move_x, move_y\n",
    "\n",
    "def get_input_nf(_id, train_input):\n",
    "    result, move_x, move_y = preprocess_input_nf(train_input[_id])\n",
    "    return result, move_x, move_y\n",
    "\n",
    "\n",
    "def get_output_nf(_id, train_label, move_x, move_y):\n",
    "    xs = train_label[_id][:13]\n",
    "    ys = train_label[_id][13:26]\n",
    "    new_xs = np.array(xs)+move_x*np.ones(shape=(xs.shape[0]))\n",
    "    new_ys = np.array(ys)+move_y*np.ones(shape=(ys.shape[0]))\n",
    "    result = np.append(new_xs.reshape(1, new_xs.shape[0]), new_ys.reshape(1, new_ys.shape[0]), axis=1)\n",
    "    result = np.append(result, train_label[_id,-13:].reshape(1,13), axis=1)\n",
    "    return result\n",
    "\n",
    "\n",
    "def data_generator_nf(train_input, train_label, batch_size = 64, augmented=True):   \n",
    "    while True:\n",
    "        batch_idx = np.random.choice(range(0, train_input.shape[0]), \n",
    "                                     size = batch_size)\n",
    "        shape = (1, train_input.shape[1], 13*3)\n",
    "        batch_input = np.zeros(shape=shape)\n",
    "        batch_output = np.zeros(shape=(1, train_label.shape[1])) \n",
    "        if augmented:\n",
    "            for idx in batch_idx:\n",
    "                _input, move_x, move_y = get_input_nf(idx, train_input)\n",
    "                _input = _input.reshape(1, batch_input.shape[1], batch_input.shape[2])\n",
    "                _output = get_output_nf(idx, train_label, move_x, move_y).reshape(1, 39)\n",
    "                batch_input = np.append(batch_input, _input, axis=0)\n",
    "                batch_output = np.append(batch_output, _output, axis=0)\n",
    "        else:\n",
    "            for idx in batch_idx:\n",
    "                _input = train_input[idx].reshape(1, batch_input.shape[1], batch_input.shape[2])\n",
    "                _output = train_label[idx].reshape(1, 39)\n",
    "                batch_input = np.append(batch_input, _input, axis=0)\n",
    "                batch_output = np.append(batch_output, _output, axis=0)\n",
    "        batch_x = batch_input[1:]\n",
    "        batch_y = batch_output[1:]\n",
    "        \n",
    "        yield batch_x, batch_y"
   ]
  },
  {
   "cell_type": "code",
   "execution_count": 9,
   "metadata": {},
   "outputs": [],
   "source": [
    "from sklearn.model_selection import train_test_split\n",
    "train_input, val_input, train_label, val_label = train_test_split(a, b, test_size=0.2)"
   ]
  },
  {
   "cell_type": "code",
   "execution_count": 10,
   "metadata": {},
   "outputs": [],
   "source": [
    "train_generator = data_generator_nf(train_input, train_label, batch_size=128, augmented=False)"
   ]
  },
  {
   "cell_type": "code",
   "execution_count": 13,
   "metadata": {},
   "outputs": [
    {
     "data": {
      "text/plain": [
       "(128, 39)"
      ]
     },
     "execution_count": 13,
     "metadata": {},
     "output_type": "execute_result"
    }
   ],
   "source": [
    "next(train_generator)[1].shape"
   ]
  }
 ],
 "metadata": {
  "kernelspec": {
   "display_name": "Python 3",
   "language": "python",
   "name": "python3"
  },
  "language_info": {
   "codemirror_mode": {
    "name": "ipython",
    "version": 3
   },
   "file_extension": ".py",
   "mimetype": "text/x-python",
   "name": "python",
   "nbconvert_exporter": "python",
   "pygments_lexer": "ipython3",
   "version": "3.6.8"
  }
 },
 "nbformat": 4,
 "nbformat_minor": 2
}
