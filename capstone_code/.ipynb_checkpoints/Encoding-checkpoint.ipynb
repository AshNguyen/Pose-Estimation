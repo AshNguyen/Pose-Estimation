{
 "cells": [
  {
   "cell_type": "code",
   "execution_count": 2,
   "metadata": {},
   "outputs": [],
   "source": [
    "import os\n",
    "import sys\n",
    "import pandas as pd\n",
    "import numpy as np\n",
    "\n",
    "os.chdir(\"/Users/ash/Downloads/capstone_code\")\n",
    "module_path = os.path.abspath(os.path.join('..'))\n",
    "if module_path not in sys.path:\n",
    "    sys.path.append(module_path)\n",
    "data = pd.read_csv('./data/penn/processed_penn_data.csv', index_col=[0]).reset_index(drop=True)"
   ]
  },
  {
   "cell_type": "code",
   "execution_count": 3,
   "metadata": {},
   "outputs": [],
   "source": [
    "from visualization.plotting import plot_pose, plot_pose_visible\n",
    "import pandas as pd\n",
    "import numpy as np\n",
    "#Load data and plot some examples\n",
    "data = pd.read_csv('./data/penn/processed_penn_data.csv', index_col=[0]).reset_index(drop=True)"
   ]
  },
  {
   "cell_type": "code",
   "execution_count": 49,
   "metadata": {},
   "outputs": [],
   "source": [
    "class Model_contract:\n",
    "    def __init__(self, latent_unit = 100, latent_activation='relu', output_activation='sigmoid'):\n",
    "        from keras.layers import Input, Dense, Dropout\n",
    "        from keras.models import Model\n",
    "        from keras.optimizers import Adam\n",
    "        assert latent_activation in ['relu', 'sigmoid', 'elu', 'tanh']\n",
    "        assert output_activation in ['relu', 'sigmoid', 'elu', 'tanh']\n",
    "        \n",
    "        inputs = Input(shape=(13*3,))\n",
    "        x = Dense(30, activation=latent_activation)(inputs)\n",
    "        x = Dense(20, activation=latent_activation)(x)\n",
    "        latent_outputs = Dense(10, activation=latent_activation)(x)\n",
    "        encoder = Model(inputs=inputs, outputs=latent_outputs)\n",
    "\n",
    "        latent_inputs = Input(shape=(10, ))\n",
    "        y = Dense(20, activation=latent_activation)(latent_inputs)\n",
    "        y = Dense(30, activation=latent_activation)(y)\n",
    "        outputs = Dense(13*3, activation=output_activation)(y)\n",
    "        decoder = Model(inputs=latent_inputs, outputs=outputs)\n",
    "\n",
    "        outputs = decoder(encoder(inputs))\n",
    "        self.model = Model(inputs=inputs, outputs=outputs)\n",
    "\n",
    "        self.optimizer = Adam()\n",
    "        self.model.compile(optimizer=self.optimizer,\n",
    "                      loss='mse',\n",
    "                      metrics=['mae'])\n",
    "\n",
    "    def training(self, save_dir, train_input, train_label, val_input, val_label):\n",
    "        from keras.callbacks import ModelCheckpoint, EarlyStopping\n",
    "        cp = ModelCheckpoint(save_dir, save_best_only=True)\n",
    "        es = EarlyStopping(monitor=\"val_mean_squared_error\")\n",
    "\n",
    "        self.history = self.model.fit(train_input, train_label, epochs=50, batch_size=128, validation_data=(val_input, val_label), callbacks=[es, cp])\n",
    "        return self.history\n",
    "\n",
    "    def training_generator(self, save_dir, train_generator, val_generator, n_step, n_step_val):\n",
    "        from keras.callbacks import ModelCheckpoint, EarlyStopping\n",
    "        cp = ModelCheckpoint(save_dir, save_best_only=True)\n",
    "        es = EarlyStopping(monitor=\"val_mean_squared_error\")\n",
    "\n",
    "        self.history = self.model.fit_generator(generator=train_generator, epochs=50, steps_per_epoch=n_step, validation_data=val_generator, validation_steps=n_step_val, callbacks=[es, cp])\n",
    "        return self.history\n",
    "\n",
    "    def predict(self, _input):\n",
    "        return self.model.predict(_input)"
   ]
  },
  {
   "cell_type": "code",
   "execution_count": 8,
   "metadata": {},
   "outputs": [],
   "source": [
    "class Model_expand:\n",
    "    def __init__(self, latent_dim = 120, n_latent_layer = 3, latent_unit = 100, latent_activation='relu', output_activation='sigmoid'):\n",
    "        from keras.layers import Input, Dense, Dropout\n",
    "        from keras.models import Model\n",
    "        from keras.optimizers import Adam\n",
    "        d = int(np.floor(latent_dim/n_latent_layer))\n",
    "        assert d > 13*3\n",
    "        inputs = Input(shape=(13*3,))\n",
    "        x = Dense(d, activation= latent_activation)(inputs)\n",
    "        for _ in range(2, n_latent_layer-1):\n",
    "            x = Dense(d*_, activation= latent_activation)(x)\n",
    "        latent_outputs = Dense(latent_dim, activation= latent_activation)(x)\n",
    "        encoder = Model(inputs=inputs, outputs=latent_outputs)\n",
    "\n",
    "        latent_inputs = Input(shape=(latent_dim, ))\n",
    "        y = Dense(d*(n_latent_layer-1), activation= latent_activation)(latent_inputs)\n",
    "        for _ in range(n_latent_layer-2, 0, -1):\n",
    "            y = Dense(d*_, activation= latent_activation)(y)\n",
    "        outputs = Dense(13*3, activation= output_activation)(y)\n",
    "        decoder = Model(inputs=latent_inputs, outputs=outputs)\n",
    "\n",
    "        outputs = decoder(encoder(inputs))\n",
    "        self.model = Model(inputs=inputs, outputs=outputs)\n",
    "\n",
    "        self.optimizer = Adam()\n",
    "        self.model.compile(optimizer=self.optimizer,\n",
    "                      loss='mse',\n",
    "                      metrics=['mae'])\n",
    "\n",
    "    def training(self, save_dir, train_input, train_label, val_input, val_label):\n",
    "        from keras.callbacks import ModelCheckpoint, EarlyStopping\n",
    "        cp = ModelCheckpoint(save_dir, save_best_only=True)\n",
    "        es = EarlyStopping(monitor=\"val_mean_squared_error\")\n",
    "\n",
    "        self.history = self.model.fit(train_input, train_label, epochs=50, batch_size=128, validation_data=(val_input, val_label), callbacks=[es, cp])\n",
    "        return self.history\n",
    "\n",
    "    def training_generator(self, save_dir, train_generator, val_generator, n_step, n_step_val):\n",
    "        from keras.callbacks import ModelCheckpoint, EarlyStopping\n",
    "        cp = ModelCheckpoint(save_dir, save_best_only=True)\n",
    "        es = EarlyStopping(monitor=\"val_mean_squared_error\")\n",
    "\n",
    "        self.history = self.model.fit_generator(generator=train_generator, epochs=50, steps_per_epoch=n_step, validation_data=val_generator, validation_steps=n_step_val, callbacks=[es, cp])\n",
    "        return self.history\n",
    "\n",
    "    def predict(self, _input):\n",
    "        return self.model.predict(_input)"
   ]
  },
  {
   "cell_type": "code",
   "execution_count": 4,
   "metadata": {},
   "outputs": [],
   "source": [
    "def preprocess_input_en(_input):\n",
    "    #pertube input\n",
    "    n_aug = 10\n",
    "    xs = _input[:13]\n",
    "    ys = _input[13:26]\n",
    "    max_x = np.max(np.array(xs).reshape(-1))\n",
    "    min_x = np.min(np.array(xs).reshape(-1))\n",
    "    max_y = np.max(np.array(ys).reshape(-1))\n",
    "    min_y = np.min(np.array(ys).reshape(-1))\n",
    "    x_aug = [-i*(min_x - 0)/n_aug for i in range(0, n_aug+1)] + [i*(1-max_x)/n_aug for i in range(0, n_aug+1)]\n",
    "    y_aug = [-i*(min_y - 0)/n_aug for i in range(0, n_aug+1)] + [i*(1-max_y)/n_aug for i in range(0, n_aug+1)]\n",
    "    move_x = np.random.choice(x_aug)\n",
    "    move_y = np.random.choice(y_aug)\n",
    "    new_xs = np.array(xs)+move_x*np.ones(shape=(1,13))\n",
    "    new_ys = np.array(ys)+move_y*np.ones(shape=(1,13))\n",
    "    result = np.append(new_xs, new_ys, axis=1)\n",
    "    result = np.append(result, _input[-13:].reshape(1,13), axis=1)\n",
    "    return result, move_x, move_y\n",
    "\n",
    "def get_input_en(_id, train_input):\n",
    "    result, move_x, move_y = preprocess_input_en(train_input[_id])\n",
    "    return result, move_x, move_y\n",
    "\n",
    "\n",
    "def get_output_en(_id, train_label, move_x, move_y):\n",
    "    xs = train_label[_id, :13]\n",
    "    ys = train_label[_id, 13:26]\n",
    "    new_xs = np.array(xs)+move_x*np.ones(shape=(xs.shape[0]))\n",
    "    new_ys = np.array(ys)+move_y*np.ones(shape=(ys.shape[0]))\n",
    "    result = np.append(new_xs.reshape(1, new_xs.shape[0]), new_ys.reshape(1, new_ys.shape[0]), axis=1)\n",
    "    result = np.append(result, train_label[_id,-13:].reshape(1,13), axis=1)\n",
    "    return result\n",
    "\n",
    "\n",
    "def data_generator_en(train_input, train_label, batch_size = 64, augmented=True):   \n",
    "    while True:\n",
    "        batch_idx = np.random.choice(range(0, train_input.shape[0]), \n",
    "                                     size = batch_size)\n",
    "        shape = (1, 13*3)\n",
    "        batch_input = np.zeros(shape=shape)\n",
    "        batch_output = np.zeros(shape=shape) \n",
    "        if augmented:\n",
    "            for idx in batch_idx:\n",
    "                _input, move_x, move_y = get_input_en(idx, train_input)\n",
    "                _input = _input.reshape(1, batch_input.shape[1], batch_input.shape[2])\n",
    "                _output = get_output_nf(idx, train_label, move_x, move_y).reshape(1, 39)\n",
    "                batch_input = np.append(batch_input, _input, axis=0)\n",
    "                batch_output = np.append(batch_output, _output, axis=0)\n",
    "        else:\n",
    "            for idx in batch_idx:\n",
    "                _input = train_input[idx].reshape(1, 39)\n",
    "                _output = train_label[idx].reshape(1, 39)\n",
    "                batch_input = np.append(batch_input, _input, axis=0)\n",
    "                batch_output = np.append(batch_output, _output, axis=0)\n",
    "        batch_x = batch_input[1:]\n",
    "        batch_y = batch_output[1:]\n",
    "        \n",
    "        yield batch_x, batch_y"
   ]
  },
  {
   "cell_type": "code",
   "execution_count": 5,
   "metadata": {},
   "outputs": [],
   "source": [
    "a = np.array(data.iloc[:1000, 2:41])\n",
    "b = np.array(data.iloc[:1000, 2:41])\n",
    "from sklearn.model_selection import train_test_split\n",
    "train_input, val_input, train_label, val_label = train_test_split(a, b, test_size=0.2)"
   ]
  },
  {
   "cell_type": "code",
   "execution_count": 6,
   "metadata": {},
   "outputs": [],
   "source": [
    "train_generator = data_generator_en(train_input, train_label, batch_size=32, augmented=False)\n",
    "val_generator = data_generator_en(train_input, train_label, batch_size=32, augmented=False)"
   ]
  },
  {
   "cell_type": "code",
   "execution_count": 9,
   "metadata": {},
   "outputs": [
    {
     "name": "stdout",
     "output_type": "stream",
     "text": [
      "WARNING:tensorflow:From /Users/ash/anaconda3/lib/python3.6/site-packages/tensorflow/python/framework/op_def_library.py:263: colocate_with (from tensorflow.python.framework.ops) is deprecated and will be removed in a future version.\n",
      "Instructions for updating:\n",
      "Colocations handled automatically by placer.\n"
     ]
    }
   ],
   "source": [
    "model = Model_expand()"
   ]
  },
  {
   "cell_type": "code",
   "execution_count": null,
   "metadata": {},
   "outputs": [
    {
     "name": "stdout",
     "output_type": "stream",
     "text": [
      "WARNING:tensorflow:From /Users/ash/anaconda3/lib/python3.6/site-packages/tensorflow/python/ops/math_ops.py:3066: to_int32 (from tensorflow.python.ops.math_ops) is deprecated and will be removed in a future version.\n",
      "Instructions for updating:\n",
      "Use tf.cast instead.\n",
      "Epoch 1/50\n"
     ]
    }
   ],
   "source": [
    "model.training_generator('./', train_generator, val_generator, 10, 10)"
   ]
  }
 ],
 "metadata": {
  "kernelspec": {
   "display_name": "Python 3",
   "language": "python",
   "name": "python3"
  },
  "language_info": {
   "codemirror_mode": {
    "name": "ipython",
    "version": 3
   },
   "file_extension": ".py",
   "mimetype": "text/x-python",
   "name": "python",
   "nbconvert_exporter": "python",
   "pygments_lexer": "ipython3",
   "version": "3.6.8"
  }
 },
 "nbformat": 4,
 "nbformat_minor": 2
}
