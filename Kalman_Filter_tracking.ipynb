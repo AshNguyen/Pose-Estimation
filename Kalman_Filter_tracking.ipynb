{
  "nbformat": 4,
  "nbformat_minor": 0,
  "metadata": {
    "colab": {
      "name": "Kalman Filter.ipynb",
      "provenance": [],
      "collapsed_sections": []
    },
    "kernelspec": {
      "name": "python3",
      "display_name": "Python 3"
    }
  },
  "cells": [
    {
      "cell_type": "code",
      "metadata": {
        "id": "8rIpLGFJFizO",
        "colab_type": "code",
        "outputId": "15099af9-f168-4371-c3d9-0c44aa0c910a",
        "colab": {
          "base_uri": "https://localhost:8080/",
          "height": 122
        }
      },
      "source": [
        "from google.colab import drive\n",
        "\n",
        "drive.mount('/content/drive')\n",
        "\n",
        "import os \n",
        "\n",
        "os.chdir(\"/content/drive/My Drive\")"
      ],
      "execution_count": 0,
      "outputs": [
        {
          "output_type": "stream",
          "text": [
            "Go to this URL in a browser: https://accounts.google.com/o/oauth2/auth?client_id=947318989803-6bn6qk8qdgf4n4g3pfee6491hc0brc4i.apps.googleusercontent.com&redirect_uri=urn%3Aietf%3Awg%3Aoauth%3A2.0%3Aoob&scope=email%20https%3A%2F%2Fwww.googleapis.com%2Fauth%2Fdocs.test%20https%3A%2F%2Fwww.googleapis.com%2Fauth%2Fdrive%20https%3A%2F%2Fwww.googleapis.com%2Fauth%2Fdrive.photos.readonly%20https%3A%2F%2Fwww.googleapis.com%2Fauth%2Fpeopleapi.readonly&response_type=code\n",
            "\n",
            "Enter your authorization code:\n",
            "··········\n",
            "Mounted at /content/drive\n"
          ],
          "name": "stdout"
        }
      ]
    },
    {
      "cell_type": "code",
      "metadata": {
        "id": "6ZBR1YglFpyZ",
        "colab_type": "code",
        "colab": {}
      },
      "source": [
        "import glob\n",
        "import pandas as pd\n",
        "\n",
        "files = sorted(glob.glob('./pose_output/*'))"
      ],
      "execution_count": 0,
      "outputs": []
    },
    {
      "cell_type": "code",
      "metadata": {
        "id": "R6iM1TVGJih1",
        "colab_type": "code",
        "outputId": "65328029-caee-47cc-dc5f-1b5cb9b40b47",
        "colab": {
          "base_uri": "https://localhost:8080/",
          "height": 34
        }
      },
      "source": [
        "coding = [\"Nose\", \"Neck\", \"RShoulder\", \"RElbow\", \"RWrist\", \"LShoulder\", \"LElbow\", \"LWrist\", \"MidHip\", \"RHip\", \"RKnee\", \"RAnkle\", \"LHip\", \"LKnee\", \"LAnkle\", \"REye\", \"LEye\", \"REar\", \"LEar\", \"LBigToe\", \"LSmallToe\", \"LHeel\", \"RBigToe\", \"RSmallToe\", \"RHeel\"]\n",
        "\n",
        "col_name = [\"frame\", \"person\"]\n",
        "for code in coding:\n",
        "    col_name.append(code+'_x')\n",
        "    col_name.append(code+'_y')\n",
        "    col_name.append(code+'_c')\n",
        "\n",
        "pose_data = pd.DataFrame(columns=col_name)\n",
        "pose_data.shape"
      ],
      "execution_count": 0,
      "outputs": [
        {
          "output_type": "execute_result",
          "data": {
            "text/plain": [
              "(0, 77)"
            ]
          },
          "metadata": {
            "tags": []
          },
          "execution_count": 73
        }
      ]
    },
    {
      "cell_type": "code",
      "metadata": {
        "id": "Nc8vw-MAF-_9",
        "colab_type": "code",
        "colab": {}
      },
      "source": [
        "f = 0\n",
        "\n",
        "for file in files:\n",
        "    data = pd.read_json(file)\n",
        "    if data.shape[0] > 0: \n",
        "        for i in range(data.shape[0]):\n",
        "            row = [f, i]\n",
        "            row = row + data['people'].iloc[i]['pose_keypoints_2d']\n",
        "            pose_data = pose_data.append(pd.Series(row, col_name), ignore_index=True)\n",
        "    f += 1"
      ],
      "execution_count": 0,
      "outputs": []
    },
    {
      "cell_type": "code",
      "metadata": {
        "id": "mc_KoNf5Fy1x",
        "colab_type": "code",
        "colab": {}
      },
      "source": [
        "pose_data.to_csv('./pose_data.csv')"
      ],
      "execution_count": 0,
      "outputs": []
    },
    {
      "cell_type": "code",
      "metadata": {
        "id": "VJNX6okbGMUv",
        "colab_type": "code",
        "colab": {}
      },
      "source": [
        "import matplotlib.pyplot as plt\n",
        "def plot_pose(data):\n",
        "    kps = list(data.iloc[2:])\n",
        "    xs = kps[::3]\n",
        "    ys = kps[1::3]\n",
        "    plt.scatter(xs, ys)\n",
        "    plt.xlim(0, 1280)\n",
        "    plt.ylim(0, 920)\n",
        "    plt.show()\n",
        "    "
      ],
      "execution_count": 0,
      "outputs": []
    },
    {
      "cell_type": "code",
      "metadata": {
        "id": "pXW0S1SBdi68",
        "colab_type": "code",
        "colab": {}
      },
      "source": [
        "\n",
        "\n",
        "pose_data = pd.read_csv('./pose_data.csv')"
      ],
      "execution_count": 0,
      "outputs": []
    },
    {
      "cell_type": "code",
      "metadata": {
        "id": "ffUSXihi-k3F",
        "colab_type": "code",
        "colab": {}
      },
      "source": [
        "test = pose_data.iloc[470:980]"
      ],
      "execution_count": 0,
      "outputs": []
    },
    {
      "cell_type": "code",
      "metadata": {
        "id": "CL4w1CBZFvhM",
        "colab_type": "code",
        "outputId": "f8621b19-0352-473d-87e6-b8f515b9e210",
        "colab": {
          "base_uri": "https://localhost:8080/",
          "height": 340
        }
      },
      "source": [
        "!pip3 install filterpy\n",
        "\n",
        "import pandas as pd\n",
        "import numpy as np\n",
        "from numpy.linalg import inv\n",
        "from filterpy.kalman import KalmanFilter\n",
        "import matplotlib.pyplot as plt\n",
        "\n",
        "\n",
        "'''\n",
        "2D Kalman Filter, Tracking Position, Velocity, Acceleration & Jitter\n",
        "'''\n",
        "\n",
        "def tracker_4dof(noise=0.02, time=1.0):\n",
        "    q = noise\n",
        "    dt = time\n",
        "    tracker = KalmanFilter(dim_x=8, dim_z=2)\n",
        "    tracker.x = np.array([0.0, 0.0, 0.0, 0.0, 0.0, 0.0, 0.0, 0.0])\n",
        "    tracker.F = np.array([[1., 0., dt, 0., 1 / 2 * (dt ** 2), 0., 1 / 6 * (dt ** 3), 0],\n",
        "                          [0., 1., 0., dt, 0., 1 / 2 * (dt ** 2), 0., 1 / 6 * (dt ** 3)],\n",
        "                          [0., 0., 1., 0., dt, 0., 1 / 2 * (dt ** 2), 0],\n",
        "                          [0., 0., 0., 1., 0, dt, 0., 1 / 2 * (dt ** 2)],\n",
        "                          [0., 0., 0., 0., 1., 0., dt, 0.],\n",
        "                          [0., 0., 0., 0., 0, 1., 0., dt],\n",
        "                          [0., 0., 0., 0., 0, 0., 1., 0.],\n",
        "                          [0., 0., 0., 0., 0, 0., 0., 1.]])\n",
        "    tracker.H = np.array([[1., 0., 0., 0., 0., 0., 0., 0.],\n",
        "                          [0., 1., 0., 0., 0., 0., 0., 0.],])\n",
        "    tracker.R = np.array([[1.0, 0],\n",
        "                          [0, 1.0]])\n",
        "    tracker.P = np.eye(8) * 1000.\n",
        "    tracker.Q = np.array([[0., 0., q, 0., q, 0., q, 0.],\n",
        "                          [0., 0., 0., q, 0., q, 0., q],\n",
        "                          [q, 0., q, 0., q, 0., q, 0.],\n",
        "                          [0., q, 0., q, 0., q, 0., q],\n",
        "                          [q, 0., q, 0., q, 0., q, 0.],\n",
        "                          [0., q, 0., q, 0., q, 0., q],\n",
        "                          [q, 0., q, 0., q, 0., q, 0.],\n",
        "                          [0., q, 0., q, 0., q, 0., q]])\n",
        "    return tracker\n",
        "\n",
        "\n",
        "def tracker_3dof(noise=0.02, time=1.0):\n",
        "    q = noise\n",
        "    dt = time\n",
        "    tracker = KalmanFilter(dim_x=6, dim_z=2)\n",
        "    tracker.x = np.array([0.0, 0.0, 0.0, 0.0, 0.0, 0.0])\n",
        "    tracker.F = np.array([[1., 0., dt, 0., 1 / 2 * (dt ** 2), 0.],\n",
        "                          [0., 1., 0., dt, 0., 1 / 2 * (dt ** 2)],\n",
        "                          [0., 0., 1., 0., dt, 0.],\n",
        "                          [0., 0., 0., 1., 0, dt],\n",
        "                          [0., 0., 0., 0., 1., 0.],\n",
        "                          [0., 0., 0., 0., 0, 1.]])\n",
        "    tracker.H = np.array([[1., 0., 0., 0., 0., 0.],\n",
        "                          [0., 1., 0., 0., 0., 0.],])\n",
        "    tracker.R = np.array([[1., 0],\n",
        "                          [0, 1.]])\n",
        "    tracker.P = np.eye(6) * 1000.\n",
        "    tracker.Q = np.array([[0., 0., q, 0., q, 0.],\n",
        "                          [0., 0., 0., q, 0., q],\n",
        "                          [q, 0., q, 0., q, 0.],\n",
        "                          [0., q, 0., q, 0., q],\n",
        "                          [q, 0., q, 0., q, 0.],\n",
        "                          [0., q, 0., q, 0., q]])\n",
        "    return tracker\n",
        "\n",
        "def tracker_2dof(noise=0.01, time=1.0):\n",
        "    q = noise\n",
        "    dt = time\n",
        "    tracker = KalmanFilter(dim_x=4, dim_z=2)\n",
        "    tracker.x = np.array([0.0, 0.0, 0.0, 0.0])\n",
        "    tracker.F = np.array([[1., 0., dt, 0.],\n",
        "                          [0.,1., 0., dt],\n",
        "                          [0., 0., 1., 0.],\n",
        "                          [0., 0., 0., 1.]])\n",
        "    tracker.H = np.array([[1., 0., 0., 0.],\n",
        "                          [0., 1., 0., 0.]])\n",
        "    tracker.R = np.array([[1., 0],\n",
        "                          [0, 1.]])\n",
        "    tracker.P = np.eye(4) * 1000.\n",
        "    tracker.Q = np.array([[0, 0., q, 0.],\n",
        "                          [q, 0., q, 0.],\n",
        "                          [0., 0., 0., q],\n",
        "                          [0., q, 0., q]])\n",
        "    return tracker\n"
      ],
      "execution_count": 0,
      "outputs": [
        {
          "output_type": "stream",
          "text": [
            "Collecting filterpy\n",
            "\u001b[?25l  Downloading https://files.pythonhosted.org/packages/f6/1d/ac8914360460fafa1990890259b7fa5ef7ba4cd59014e782e4ab3ab144d8/filterpy-1.4.5.zip (177kB)\n",
            "\u001b[K     |████████████████████████████████| 184kB 4.9MB/s \n",
            "\u001b[?25hRequirement already satisfied: numpy in /usr/local/lib/python3.6/dist-packages (from filterpy) (1.16.5)\n",
            "Requirement already satisfied: scipy in /usr/local/lib/python3.6/dist-packages (from filterpy) (1.3.1)\n",
            "Requirement already satisfied: matplotlib in /usr/local/lib/python3.6/dist-packages (from filterpy) (3.0.3)\n",
            "Requirement already satisfied: pyparsing!=2.0.4,!=2.1.2,!=2.1.6,>=2.0.1 in /usr/local/lib/python3.6/dist-packages (from matplotlib->filterpy) (2.4.2)\n",
            "Requirement already satisfied: cycler>=0.10 in /usr/local/lib/python3.6/dist-packages (from matplotlib->filterpy) (0.10.0)\n",
            "Requirement already satisfied: kiwisolver>=1.0.1 in /usr/local/lib/python3.6/dist-packages (from matplotlib->filterpy) (1.1.0)\n",
            "Requirement already satisfied: python-dateutil>=2.1 in /usr/local/lib/python3.6/dist-packages (from matplotlib->filterpy) (2.5.3)\n",
            "Requirement already satisfied: six in /usr/local/lib/python3.6/dist-packages (from cycler>=0.10->matplotlib->filterpy) (1.12.0)\n",
            "Requirement already satisfied: setuptools in /usr/local/lib/python3.6/dist-packages (from kiwisolver>=1.0.1->matplotlib->filterpy) (41.2.0)\n",
            "Building wheels for collected packages: filterpy\n",
            "  Building wheel for filterpy (setup.py) ... \u001b[?25l\u001b[?25hdone\n",
            "  Created wheel for filterpy: filename=filterpy-1.4.5-cp36-none-any.whl size=110453 sha256=3213036c67772348f9f3532577c2849708f1a12385b562998bb15d37ad57a188\n",
            "  Stored in directory: /root/.cache/pip/wheels/c3/0c/dd/e92392c3f38a41371602d99fc77d6c1d42aadbf0c6afccdd02\n",
            "Successfully built filterpy\n",
            "Installing collected packages: filterpy\n",
            "Successfully installed filterpy-1.4.5\n"
          ],
          "name": "stdout"
        }
      ]
    },
    {
      "cell_type": "code",
      "metadata": {
        "id": "JATfOfx5GIKw",
        "colab_type": "code",
        "outputId": "1acb0ae9-0f6c-4c49-eca3-40b3d461d65c",
        "colab": {
          "base_uri": "https://localhost:8080/",
          "height": 533
        }
      },
      "source": [
        "step = 500\n",
        "c = test\n",
        "\n",
        "KF_2D = tracker_4dof()\n",
        "preds = []\n",
        "truths = []\n",
        "measure = []\n",
        "res_x = []\n",
        "res_y = []\n",
        "count = [_ for _ in range(step)]\n",
        "z = np.array([700, 300])\n",
        "\n",
        "for _ in range(step):\n",
        "    KF_2D.predict()\n",
        "    KF_2D.update(z)\n",
        "    preds.append([KF_2D.x[0], KF_2D.x[1]])\n",
        "    truths.append([c['Neck_x'].iloc[_], c['Neck_y'].iloc[_]])\n",
        "    measure.append([z[0], z[1]])\n",
        "    z = np.array([c['Neck_x'].iloc[_+1], c['Neck_y'].iloc[_+1]])\n",
        "    res_x.append(KF_2D.y[0])\n",
        "    res_y.append(KF_2D.y[1])\n",
        "    \n",
        "def loss(predict, target):\n",
        "    import math\n",
        "    assert len(predict) == len(target)\n",
        "    losses = 0\n",
        "    for _ in range(len(predict)):\n",
        "        losses = losses + math.hypot(float(predict[_][0])-float(target[_][0]), float(predict[_][1])-float(target[_][1]))\n",
        "    return losses\n",
        "\n",
        "print('Loss w/ Filter:', loss(truths, preds)/step)\n",
        "print('Loss wt/ Filter:', loss(truths, measure)/step)\n",
        "\n",
        "plt.figure(figsize=(12,8))\n",
        "\n",
        "plt.subplot(2,1,1)\n",
        "plt.xlim(c['Neck_x'].min(), c['Neck_x'].max())\n",
        "plt.ylim(c['Neck_y'].min(), c['Neck_y'].max())\n",
        "plt.title('With Kalman Filter')\n",
        "plt.scatter([truths[_][0] for _ in range(len(preds))], [truths[_][1] for _ in range(len(preds))], color='red')\n",
        "plt.scatter([preds[_][0] for _ in range(len(preds))], [preds[_][1] for _ in range(len(preds))], color='green', marker='.')\n",
        "\n",
        "plt.subplot(2,1,2)\n",
        "plt.xlim(c['Neck_x'].min(), c['Neck_x'].max())\n",
        "plt.ylim(c['Neck_y'].min(), c['Neck_y'].max())\n",
        "plt.title('Without Kalman Filter')\n",
        "plt.scatter([truths[_][0] for _ in range(len(preds))], [truths[_][1] for _ in range(len(preds))], color='red')\n",
        "plt.scatter([measure[_][0] for _ in range(len(preds))], [measure[_][1] for _ in range(len(preds))], color='blue', marker='+')\n",
        "\n",
        "plt.show()"
      ],
      "execution_count": 0,
      "outputs": [
        {
          "output_type": "stream",
          "text": [
            "Loss w/ Filter: 34.964003289904035\n",
            "Loss wt/ Filter: 0.20441565271769188\n"
          ],
          "name": "stdout"
        },
        {
          "output_type": "display_data",
          "data": {
            "image/png": "[encoded data removed]",
            "text/plain": [
              "<Figure size 864x576 with 2 Axes>"
            ]
          },
          "metadata": {
            "tags": []
          }
        }
      ]
    },
    {
      "cell_type": "code",
      "metadata": {
        "id": "-39uP9jHNh7A",
        "colab_type": "code",
        "outputId": "b604f2cc-7eee-4bc3-9dfe-d116c6a9c257",
        "colab": {
          "base_uri": "https://localhost:8080/",
          "height": 34
        }
      },
      "source": [
        "t = np.array(truths)\n",
        "t.T.shape"
      ],
      "execution_count": 0,
      "outputs": [
        {
          "output_type": "execute_result",
          "data": {
            "text/plain": [
              "(2, 500)"
            ]
          },
          "metadata": {
            "tags": []
          },
          "execution_count": 12
        }
      ]
    },
    {
      "cell_type": "code",
      "metadata": {
        "id": "D6gO2fBHPLSU",
        "colab_type": "code",
        "outputId": "efe33ca9-2543-47d6-b5b8-4a6e56cfe3de",
        "colab": {
          "base_uri": "https://localhost:8080/",
          "height": 295
        }
      },
      "source": [
        "import numpy as np\n",
        "import matplotlib.pyplot as plt\n",
        "import matplotlib.animation as animation\n",
        "\n",
        "\n",
        "def update_line(num, data, line):\n",
        "    line.set_data(data[..., :num])\n",
        "    return line,\n",
        "  \n",
        "fig1 = plt.figure()\n",
        "\n",
        "# Fixing random state for reproducibility\n",
        "np.random.seed(19680801)\n",
        "\n",
        "data = t.T\n",
        "l, = plt.plot([], [], 'r-')\n",
        "plt.xlim(0, 1720)\n",
        "plt.ylim(0, 800)\n",
        "plt.xlabel('x')\n",
        "plt.title('test')\n",
        "line_ani = animation.FuncAnimation(fig1, update_line, 25, fargs=(data, l),\n",
        "                                   interval=50, blit=True)\n",
        "\n",
        "line_ani.save('./lines.mp4')"
      ],
      "execution_count": 0,
      "outputs": [
        {
          "output_type": "display_data",
          "data": {
            "image/png": "[encoded data removed]",
            "text/plain": [
              "<Figure size 432x288 with 1 Axes>"
            ]
          },
          "metadata": {
            "tags": []
          }
        }
      ]
    },
    {
      "cell_type": "code",
      "metadata": {
        "id": "b7ebcFWkgBn4",
        "colab_type": "code",
        "outputId": "16490dfa-894d-4f75-8924-ba45473391dd",
        "colab": {
          "base_uri": "https://localhost:8080/",
          "height": 34
        }
      },
      "source": [
        "data.shape"
      ],
      "execution_count": 0,
      "outputs": [
        {
          "output_type": "execute_result",
          "data": {
            "text/plain": [
              "(2, 500)"
            ]
          },
          "metadata": {
            "tags": []
          },
          "execution_count": 29
        }
      ]
    }
  ]
}