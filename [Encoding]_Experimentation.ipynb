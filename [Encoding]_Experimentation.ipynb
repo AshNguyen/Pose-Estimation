{
  "nbformat": 4,
  "nbformat_minor": 0,
  "metadata": {
    "colab": {
      "name": "[Encoding] Experimentation.ipynb",
      "provenance": [],
      "collapsed_sections": []
    },
    "kernelspec": {
      "name": "python3",
      "display_name": "Python 3"
    }
  },
  "cells": [
    {
      "cell_type": "code",
      "metadata": {
        "id": "n7KTgxTwb_LD",
        "colab_type": "code",
        "colab": {}
      },
      "source": [
        "from google.colab import drive\n",
        "import matplotlib.pyplot as plt\n",
        "import pandas as pd\n",
        "import numpy as np\n",
        "import sys, random, os\n",
        "\n",
        "drive.mount('/content/drive')\n",
        "os.chdir(\"/content/drive/My Drive/capstone_code\")\n",
        "sys.path.append(\"/content/drive/My Drive/capstone_code/p_file\")\n",
        "\n",
        "train = pd.read_csv(\"./training_set.csv\").reset_index(drop=True)\n",
        "test = pd.read_csv(\"./test_set.csv\").reset_index(drop=True)"
      ],
      "execution_count": 0,
      "outputs": []
    },
    {
      "cell_type": "code",
      "metadata": {
        "id": "51_CJa_2cWeM",
        "colab_type": "code",
        "colab": {}
      },
      "source": [
        "def load_data():\n",
        "    train = pd.read_csv(\"./training_set.csv\")\n",
        "    test = pd.read_csv(\"./test_set.csv\")\n",
        "    from preprocessing.serialization import serialize_data_encoding\n",
        "    from models.data_generator import data_generator_en\n",
        "\n",
        "    train_input, train_label =  serialize_data_encoding(train, save=True, save_path=\"./\")\n",
        "    val_input, val_label =  serialize_data_encoding(test, save=True, save_path=\"./\")\n",
        "\n",
        "    train_generator = data_generator_en(train_input, train_label, batch_size=64)\n",
        "    val_generator = data_generator_en(val_input, val_label, batch_size=64, augmented=False)  \n",
        "    return train_generator, val_generator\n",
        "\n",
        "def train_model_org(save_path, n_epoch=100, model_type = \"contract\", latent_dim=120, n_latent_layer=3, save_train_stats=True):\n",
        "      from models.construction import Model_expand, Model_contract\n",
        "      train_generator, val_generator = load_data()\n",
        "      \n",
        "      if model_type == \"contract\":\n",
        "          print('Training model, latent dim = 20')\n",
        "          model = Model_contract(save_dir=save_path)\n",
        "          history = model.training_generator(train_generator, val_generator, 500, 200, n_epoch=n_epoch)\n",
        "          print('Finish training.')\n",
        "      if model_type == 'expand':\n",
        "          print('Training model, latent dim = {}'.format(latent_dim))\n",
        "          model = Model_expand(save_dir=save_path, latent_dim=latent_dim, n_latent_layer=n_latent_layer, early_stop=False)\n",
        "          history = model.training_generator(train_generator, val_generator, 500, 200, n_epoch=n_epoch)\n",
        "          print('Finish training.')\n",
        "      if save_train_stats: \n",
        "          np.array(history.history['mean_absolute_error']).dump(save_path+\"en_h1_tmae\")\n",
        "          np.array(history.history['val_mean_absolute_error']).dump(save_path+\"en_h1_vmae\")\n",
        "          np.array(history.history['loss']).dump(save_path+\"en_h1_tmse\")\n",
        "          np.array(history.history['val_loss']).dump(save_path+\"en_h1_vmse\")\n",
        "      return model, history"
      ],
      "execution_count": 0,
      "outputs": []
    },
    {
      "cell_type": "code",
      "metadata": {
        "id": "aAdH7lzXnzOl",
        "colab_type": "code",
        "colab": {}
      },
      "source": [
        "sp = \"./contract_20\"\n",
        "\n",
        "train_model_org(sp, model_type='contract')"
      ],
      "execution_count": 0,
      "outputs": []
    },
    {
      "cell_type": "code",
      "metadata": {
        "id": "a-vUBmc-p92_",
        "colab_type": "code",
        "colab": {}
      },
      "source": [
        "sp = \"./expand_80\"\n",
        "\n",
        "train_model_org(sp, model_type='expand', latent_dim=80, n_latent_layer=2)"
      ],
      "execution_count": 0,
      "outputs": []
    },
    {
      "cell_type": "code",
      "metadata": {
        "id": "jAZxpN56qBfC",
        "colab_type": "code",
        "colab": {}
      },
      "source": [
        "sp = \"./expand_120\"\n",
        "\n",
        "train_model_org(sp, model_type='expand', latent_dim=120, n_latent_layer=3)"
      ],
      "execution_count": 0,
      "outputs": []
    },
    {
      "cell_type": "code",
      "metadata": {
        "id": "EZO7S6kaqEql",
        "colab_type": "code",
        "colab": {}
      },
      "source": [
        "sp = \"./expand_160\"\n",
        "\n",
        "train_model_org(sp, model_type='expand', latent_dim=160, n_latent_layer=4)"
      ],
      "execution_count": 0,
      "outputs": []
    }
  ]
}